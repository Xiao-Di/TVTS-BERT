{
 "cells": [
  {
   "cell_type": "code",
   "execution_count": 1,
   "metadata": {},
   "outputs": [],
   "source": [
    "import numpy as np\n",
    "import pandas as pd "
   ]
  },
  {
   "cell_type": "code",
   "execution_count": 4,
   "metadata": {},
   "outputs": [],
   "source": [
    "def read_data(file_path, label):\n",
    "    num_roads = 24  \n",
    "#     saved_path = '/Users/gengyunxin/Documents/项目/traffic_model/test/data/processed_finetune_seattle_72.csv'\n",
    "    df = pd.read_csv(file_path, names=None).values\n",
    "  \n",
    "    df_T = df.transpose() # (24, 12384)\n",
    "    # 每条样本的长度要综合考虑，不能存在两条道路的数据混合在一条样本中的情况\n",
    "    # 即能被12384整除；\n",
    "    # 还要和小时、天等实际意义挂钩；\n",
    "    # 同时要考虑一条样本（sentence）中“词”的数量要合理\n",
    "    \n",
    "    # 每条路的数据独立做归一化\n",
    "    raw = []\n",
    "    for i in range(num_roads):\n",
    "        array = df_T[i]\n",
    "        max = array.max()\n",
    "        min = array.min()\n",
    "        normalized = ((array - min) / (max - min)).tolist()\n",
    "        raw.append(normalized)\n",
    "\n",
    "    df_norm = np.array(raw)\n",
    "    \n",
    "    data_quarter = df_norm.reshape(-1, 72) # 每条样本72个点,即1/4天 \n",
    "\n",
    "    num_rows = data_quarter.shape[0]\n",
    "    if label == 1:\n",
    "        labels = np.ones((1, num_rows))\n",
    "    else:\n",
    "        labels = np.zeros((1, num_rows))\n",
    "    data_with_label = np.insert(data_quarter, 72, values=labels, axis=1) \n",
    "    \n",
    "    return data_with_label"
   ]
  },
  {
   "cell_type": "code",
   "execution_count": 5,
   "metadata": {},
   "outputs": [],
   "source": [
    "workday_file = '/Users/gengyunxin/Documents/项目/traffic_model/data/California/combine_E_workday_n0.csv'\n",
    "weekend_file = '/Users/gengyunxin/Documents/项目/traffic_model/data/California/combine_E_weekend_n0.csv'\n",
    "# weekday->1 ; weekend->0\n",
    "workday_with_label = read_data(workday_file, label=1) # (4128, 73)\n",
    "weekend_with_label = read_data(weekend_file, label=0) # (1728, 73)"
   ]
  },
  {
   "cell_type": "code",
   "execution_count": 6,
   "metadata": {},
   "outputs": [
    {
     "data": {
      "text/plain": [
       "(4128, 73)"
      ]
     },
     "execution_count": 6,
     "metadata": {},
     "output_type": "execute_result"
    }
   ],
   "source": [
    "workday_with_label.shape"
   ]
  },
  {
   "cell_type": "code",
   "execution_count": 7,
   "metadata": {},
   "outputs": [
    {
     "data": {
      "text/plain": [
       "(1728, 73)"
      ]
     },
     "execution_count": 7,
     "metadata": {},
     "output_type": "execute_result"
    }
   ],
   "source": [
    "weekend_with_label.shape"
   ]
  },
  {
   "cell_type": "code",
   "execution_count": 9,
   "metadata": {},
   "outputs": [
    {
     "data": {
      "text/plain": [
       "(5856, 73)"
      ]
     },
     "execution_count": 9,
     "metadata": {},
     "output_type": "execute_result"
    }
   ],
   "source": [
    "all_with_label = np.append(workday_with_label, weekend_with_label, axis=0) # (5856, 73)"
   ]
  },
  {
   "cell_type": "code",
   "execution_count": 10,
   "metadata": {},
   "outputs": [],
   "source": [
    "df = pd.DataFrame(all_with_label)\n",
    "df.to_csv('/Users/gengyunxin/Documents/项目/traffic_model/test/data/processed_finetune_seattle_72.csv', index=0, header=0)"
   ]
  },
  {
   "cell_type": "code",
   "execution_count": null,
   "metadata": {},
   "outputs": [],
   "source": []
  }
 ],
 "metadata": {
  "kernelspec": {
   "display_name": "Python [conda env:pytorch1.6.0]",
   "language": "python",
   "name": "conda-env-pytorch1.6.0-py"
  },
  "language_info": {
   "codemirror_mode": {
    "name": "ipython",
    "version": 3
   },
   "file_extension": ".py",
   "mimetype": "text/x-python",
   "name": "python",
   "nbconvert_exporter": "python",
   "pygments_lexer": "ipython3",
   "version": "3.7.0"
  }
 },
 "nbformat": 4,
 "nbformat_minor": 4
}
