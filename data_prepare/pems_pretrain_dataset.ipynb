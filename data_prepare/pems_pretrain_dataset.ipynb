{
 "cells": [
  {
   "cell_type": "code",
   "execution_count": 1,
   "metadata": {},
   "outputs": [],
   "source": [
    "import numpy as np\n",
    "import pandas as pd \n",
    "import matplotlib.pyplot as plt"
   ]
  },
  {
   "cell_type": "code",
   "execution_count": 2,
   "metadata": {},
   "outputs": [],
   "source": [
    "# file3 = '/Users/gengyunxin/Documents/项目/traffic_model/data/PEMS/PEMS03/PEMS03_data.csv'\n",
    "file3 = '/Users/gengyunxin/Documents/项目/traffic_model/test/data/PEMS/PEMS03/PEMS03_data.csv'\n",
    "file4 = '/Users/gengyunxin/Documents/项目/traffic_model/test/data/PEMS/PEMS04/PEMS04.npz'\n",
    "file7 = '/Users/gengyunxin/Documents/项目/traffic_model/test/data/PEMS/PEMS07/PEMS07.npz'\n",
    "file8 = '/Users/gengyunxin/Documents/项目/traffic_model/test/data/PEMS/PEMS08/PEMS08.npz'"
   ]
  },
  {
   "cell_type": "code",
   "execution_count": 3,
   "metadata": {},
   "outputs": [],
   "source": [
    "def normalize(df_T):\n",
    "    num_roads = df_T.shape[0]\n",
    "    raw = []\n",
    "    for i in range(num_roads):\n",
    "        array = df_T[i]\n",
    "        max = array.max()\n",
    "        min = array.min()\n",
    "        normalized = ((array - min) / (max - min)).tolist()\n",
    "        raw.append(normalized)\n",
    "        df_norm = np.array(raw)\n",
    "    return df_norm"
   ]
  },
  {
   "cell_type": "code",
   "execution_count": 5,
   "metadata": {},
   "outputs": [],
   "source": [
    "# 处理pems03:读取、归一化、reshape成每条样本72点\n",
    "df3 = pd.read_csv(file3).values # (26208, 358)\n",
    "df3_T = df3.transpose() # (358, 26208)\n",
    "normalized3 = normalize(df3_T)\n",
    "processed3 = normalized3.reshape(-1, 72) # (130312, 72)"
   ]
  },
  {
   "cell_type": "code",
   "execution_count": 6,
   "metadata": {},
   "outputs": [],
   "source": [
    "# 处理pems04\n",
    "data4 = np.load(file4)['data']\n",
    "ts4 = data4[:,:,0].squeeze().transpose() # (307, 16992)\n",
    "# plt.plot(ts[199])\n",
    "normalized4 = normalize(ts4)\n",
    "processed4 = normalized4.reshape(-1, 72) # (72452, 72)"
   ]
  },
  {
   "cell_type": "code",
   "execution_count": 7,
   "metadata": {},
   "outputs": [
    {
     "data": {
      "text/plain": [
       "(346136, 72)"
      ]
     },
     "execution_count": 7,
     "metadata": {},
     "output_type": "execute_result"
    }
   ],
   "source": [
    "# pems07\n",
    "data7 = np.load(file7)['data']\n",
    "ts7 = data7[:,:,0].squeeze().transpose() # (883, 28224)\n",
    "# plt.plot(ts7[500])\n",
    "normalized7 = normalize(ts7)\n",
    "processed7 = normalized7.reshape(-1, 72) # (346136, 72)"
   ]
  },
  {
   "cell_type": "code",
   "execution_count": 10,
   "metadata": {},
   "outputs": [],
   "source": [
    "# pems08\n",
    "data8 = np.load(file8)['data']\n",
    "ts8 = data8[:,:,0].squeeze().transpose() # (170, 17856)\n",
    "# plt.plot(ts8)\n",
    "processed8 = normalize(ts8).reshape(-1, 72) # (42160, 72)"
   ]
  },
  {
   "cell_type": "code",
   "execution_count": 13,
   "metadata": {},
   "outputs": [
    {
     "data": {
      "text/plain": [
       "(591060, 72)"
      ]
     },
     "execution_count": 13,
     "metadata": {},
     "output_type": "execute_result"
    }
   ],
   "source": [
    "processed_all = np.concatenate((processed3, processed4, processed7, processed8), axis=0)\n",
    "processed_all.shape"
   ]
  },
  {
   "cell_type": "code",
   "execution_count": 15,
   "metadata": {},
   "outputs": [],
   "source": [
    "df = pd.DataFrame(processed_all)\n",
    "df.to_csv('/Users/gengyunxin/Documents/项目/traffic_model/test/data/processed_pretrain_pems_72.csv', index=0, header=0)"
   ]
  },
  {
   "cell_type": "code",
   "execution_count": 16,
   "metadata": {},
   "outputs": [
    {
     "data": {
      "text/plain": [
       "17.10185185185185"
      ]
     },
     "execution_count": 16,
     "metadata": {},
     "output_type": "execute_result"
    }
   ],
   "source": [
    "7388 / (12 * 36)"
   ]
  },
  {
   "cell_type": "code",
   "execution_count": null,
   "metadata": {},
   "outputs": [],
   "source": []
  }
 ],
 "metadata": {
  "kernelspec": {
   "display_name": "Python [conda env:pytorch1.6.0]",
   "language": "python",
   "name": "conda-env-pytorch1.6.0-py"
  },
  "language_info": {
   "codemirror_mode": {
    "name": "ipython",
    "version": 3
   },
   "file_extension": ".py",
   "mimetype": "text/x-python",
   "name": "python",
   "nbconvert_exporter": "python",
   "pygments_lexer": "ipython3",
   "version": "3.7.0"
  }
 },
 "nbformat": 4,
 "nbformat_minor": 4
}
