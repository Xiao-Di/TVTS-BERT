{
 "cells": [
  {
   "cell_type": "code",
   "execution_count": 18,
   "metadata": {},
   "outputs": [],
   "source": [
    "import numpy as np\n",
    "import pandas as pd "
   ]
  },
  {
   "cell_type": "code",
   "execution_count": 19,
   "metadata": {},
   "outputs": [
    {
     "data": {
      "text/html": [
       "<div>\n",
       "<style scoped>\n",
       "    .dataframe tbody tr th:only-of-type {\n",
       "        vertical-align: middle;\n",
       "    }\n",
       "\n",
       "    .dataframe tbody tr th {\n",
       "        vertical-align: top;\n",
       "    }\n",
       "\n",
       "    .dataframe thead th {\n",
       "        text-align: right;\n",
       "    }\n",
       "</style>\n",
       "<table border=\"1\" class=\"dataframe\">\n",
       "  <thead>\n",
       "    <tr style=\"text-align: right;\">\n",
       "      <th></th>\n",
       "      <th>ID</th>\n",
       "      <th>08/31/2018 00:00:00</th>\n",
       "      <th>08/31/2018 00:05:00</th>\n",
       "      <th>08/31/2018 00:10:00</th>\n",
       "      <th>08/31/2018 00:15:00</th>\n",
       "      <th>08/31/2018 00:20:00</th>\n",
       "      <th>08/31/2018 00:25:00</th>\n",
       "      <th>08/31/2018 00:30:00</th>\n",
       "      <th>08/31/2018 00:35:00</th>\n",
       "      <th>08/31/2018 00:40:00</th>\n",
       "      <th>...</th>\n",
       "      <th>01/31/2019 23:10:00</th>\n",
       "      <th>01/31/2019 23:15:00</th>\n",
       "      <th>01/31/2019 23:20:00</th>\n",
       "      <th>01/31/2019 23:25:00</th>\n",
       "      <th>01/31/2019 23:30:00</th>\n",
       "      <th>01/31/2019 23:35:00</th>\n",
       "      <th>01/31/2019 23:40:00</th>\n",
       "      <th>01/31/2019 23:45:00</th>\n",
       "      <th>01/31/2019 23:50:00</th>\n",
       "      <th>01/31/2019 23:55:00</th>\n",
       "    </tr>\n",
       "  </thead>\n",
       "  <tbody>\n",
       "    <tr>\n",
       "      <th>0</th>\n",
       "      <td>500010011.0</td>\n",
       "      <td>13.0</td>\n",
       "      <td>14.0</td>\n",
       "      <td>14.0</td>\n",
       "      <td>1.0</td>\n",
       "      <td>2.0</td>\n",
       "      <td>1.0</td>\n",
       "      <td>2.0</td>\n",
       "      <td>2.0</td>\n",
       "      <td>0.0</td>\n",
       "      <td>...</td>\n",
       "      <td>6.0</td>\n",
       "      <td>4.0</td>\n",
       "      <td>1.0</td>\n",
       "      <td>1.0</td>\n",
       "      <td>0.0</td>\n",
       "      <td>2.0</td>\n",
       "      <td>0.0</td>\n",
       "      <td>0.0</td>\n",
       "      <td>1.0</td>\n",
       "      <td>0.0</td>\n",
       "    </tr>\n",
       "    <tr>\n",
       "      <th>1</th>\n",
       "      <td>500010012.0</td>\n",
       "      <td>13.0</td>\n",
       "      <td>14.0</td>\n",
       "      <td>14.0</td>\n",
       "      <td>4.0</td>\n",
       "      <td>0.0</td>\n",
       "      <td>0.0</td>\n",
       "      <td>3.0</td>\n",
       "      <td>4.0</td>\n",
       "      <td>3.0</td>\n",
       "      <td>...</td>\n",
       "      <td>1.0</td>\n",
       "      <td>0.0</td>\n",
       "      <td>2.0</td>\n",
       "      <td>2.0</td>\n",
       "      <td>3.0</td>\n",
       "      <td>2.0</td>\n",
       "      <td>1.0</td>\n",
       "      <td>0.0</td>\n",
       "      <td>1.0</td>\n",
       "      <td>0.0</td>\n",
       "    </tr>\n",
       "    <tr>\n",
       "      <th>2</th>\n",
       "      <td>500010021.0</td>\n",
       "      <td>13.0</td>\n",
       "      <td>14.0</td>\n",
       "      <td>14.0</td>\n",
       "      <td>3.0</td>\n",
       "      <td>1.0</td>\n",
       "      <td>0.0</td>\n",
       "      <td>1.0</td>\n",
       "      <td>0.0</td>\n",
       "      <td>0.0</td>\n",
       "      <td>...</td>\n",
       "      <td>11.0</td>\n",
       "      <td>11.0</td>\n",
       "      <td>4.0</td>\n",
       "      <td>1.0</td>\n",
       "      <td>0.0</td>\n",
       "      <td>5.0</td>\n",
       "      <td>1.0</td>\n",
       "      <td>4.0</td>\n",
       "      <td>1.0</td>\n",
       "      <td>0.0</td>\n",
       "    </tr>\n",
       "    <tr>\n",
       "      <th>3</th>\n",
       "      <td>500010022.0</td>\n",
       "      <td>13.0</td>\n",
       "      <td>14.0</td>\n",
       "      <td>14.0</td>\n",
       "      <td>0.0</td>\n",
       "      <td>0.0</td>\n",
       "      <td>2.0</td>\n",
       "      <td>0.0</td>\n",
       "      <td>1.0</td>\n",
       "      <td>0.0</td>\n",
       "      <td>...</td>\n",
       "      <td>1.0</td>\n",
       "      <td>3.0</td>\n",
       "      <td>5.0</td>\n",
       "      <td>1.0</td>\n",
       "      <td>6.0</td>\n",
       "      <td>1.0</td>\n",
       "      <td>1.0</td>\n",
       "      <td>3.0</td>\n",
       "      <td>3.0</td>\n",
       "      <td>3.0</td>\n",
       "    </tr>\n",
       "    <tr>\n",
       "      <th>4</th>\n",
       "      <td>500010031.0</td>\n",
       "      <td>25.0</td>\n",
       "      <td>27.0</td>\n",
       "      <td>28.0</td>\n",
       "      <td>41.0</td>\n",
       "      <td>38.0</td>\n",
       "      <td>37.0</td>\n",
       "      <td>40.0</td>\n",
       "      <td>40.0</td>\n",
       "      <td>40.0</td>\n",
       "      <td>...</td>\n",
       "      <td>33.0</td>\n",
       "      <td>28.0</td>\n",
       "      <td>24.0</td>\n",
       "      <td>26.0</td>\n",
       "      <td>17.0</td>\n",
       "      <td>19.0</td>\n",
       "      <td>24.0</td>\n",
       "      <td>24.0</td>\n",
       "      <td>24.0</td>\n",
       "      <td>18.0</td>\n",
       "    </tr>\n",
       "  </tbody>\n",
       "</table>\n",
       "<p>5 rows × 44353 columns</p>\n",
       "</div>"
      ],
      "text/plain": [
       "            ID  08/31/2018 00:00:00  08/31/2018 00:05:00  08/31/2018 00:10:00  \\\n",
       "0  500010011.0                 13.0                 14.0                 14.0   \n",
       "1  500010012.0                 13.0                 14.0                 14.0   \n",
       "2  500010021.0                 13.0                 14.0                 14.0   \n",
       "3  500010022.0                 13.0                 14.0                 14.0   \n",
       "4  500010031.0                 25.0                 27.0                 28.0   \n",
       "\n",
       "   08/31/2018 00:15:00  08/31/2018 00:20:00  08/31/2018 00:25:00  \\\n",
       "0                  1.0                  2.0                  1.0   \n",
       "1                  4.0                  0.0                  0.0   \n",
       "2                  3.0                  1.0                  0.0   \n",
       "3                  0.0                  0.0                  2.0   \n",
       "4                 41.0                 38.0                 37.0   \n",
       "\n",
       "   08/31/2018 00:30:00  08/31/2018 00:35:00  08/31/2018 00:40:00  ...  \\\n",
       "0                  2.0                  2.0                  0.0  ...   \n",
       "1                  3.0                  4.0                  3.0  ...   \n",
       "2                  1.0                  0.0                  0.0  ...   \n",
       "3                  0.0                  1.0                  0.0  ...   \n",
       "4                 40.0                 40.0                 40.0  ...   \n",
       "\n",
       "   01/31/2019 23:10:00  01/31/2019 23:15:00  01/31/2019 23:20:00  \\\n",
       "0                  6.0                  4.0                  1.0   \n",
       "1                  1.0                  0.0                  2.0   \n",
       "2                 11.0                 11.0                  4.0   \n",
       "3                  1.0                  3.0                  5.0   \n",
       "4                 33.0                 28.0                 24.0   \n",
       "\n",
       "   01/31/2019 23:25:00  01/31/2019 23:30:00  01/31/2019 23:35:00  \\\n",
       "0                  1.0                  0.0                  2.0   \n",
       "1                  2.0                  3.0                  2.0   \n",
       "2                  1.0                  0.0                  5.0   \n",
       "3                  1.0                  6.0                  1.0   \n",
       "4                 26.0                 17.0                 19.0   \n",
       "\n",
       "   01/31/2019 23:40:00  01/31/2019 23:45:00  01/31/2019 23:50:00  \\\n",
       "0                  0.0                  0.0                  1.0   \n",
       "1                  1.0                  0.0                  1.0   \n",
       "2                  1.0                  4.0                  1.0   \n",
       "3                  1.0                  3.0                  3.0   \n",
       "4                 24.0                 24.0                 24.0   \n",
       "\n",
       "   01/31/2019 23:55:00  \n",
       "0                  0.0  \n",
       "1                  0.0  \n",
       "2                  0.0  \n",
       "3                  3.0  \n",
       "4                 18.0  \n",
       "\n",
       "[5 rows x 44353 columns]"
      ]
     },
     "execution_count": 19,
     "metadata": {},
     "output_type": "execute_result"
    }
   ],
   "source": [
    "df5 = pd.read_csv('../data/new/5_train.csv')\n",
    "df5.head()"
   ]
  },
  {
   "cell_type": "code",
   "execution_count": 20,
   "metadata": {
    "scrolled": true
   },
   "outputs": [
    {
     "data": {
      "text/plain": [
       "(343, 44353)"
      ]
     },
     "execution_count": 20,
     "metadata": {},
     "output_type": "execute_result"
    }
   ],
   "source": [
    "df5.shape"
   ]
  },
  {
   "cell_type": "code",
   "execution_count": 21,
   "metadata": {},
   "outputs": [
    {
     "data": {
      "text/plain": [
       "(236, 44353)"
      ]
     },
     "execution_count": 21,
     "metadata": {},
     "output_type": "execute_result"
    }
   ],
   "source": [
    "df5_na = df5.dropna()\n",
    "df5_na.shape"
   ]
  },
  {
   "cell_type": "code",
   "execution_count": 22,
   "metadata": {},
   "outputs": [
    {
     "data": {
      "text/plain": [
       "(236, 44352)"
      ]
     },
     "execution_count": 22,
     "metadata": {},
     "output_type": "execute_result"
    }
   ],
   "source": [
    "df5_ts = df5_na.iloc[:, 1:] # (236, 44352)\n",
    "df5_ts.shape"
   ]
  },
  {
   "cell_type": "code",
   "execution_count": 23,
   "metadata": {},
   "outputs": [],
   "source": [
    "num_roads = df5_ts.shape[0]\n",
    "raw = []\n",
    "for i in range(num_roads):\n",
    "    array = df5_ts.iloc[i]\n",
    "    max = array.max()\n",
    "    min = array.min()\n",
    "    normalized = ((array - min) / (max - min)).tolist()\n",
    "    raw.append(normalized)\n",
    "#     raw.append(array.tolist())"
   ]
  },
  {
   "cell_type": "code",
   "execution_count": 24,
   "metadata": {},
   "outputs": [
    {
     "data": {
      "text/plain": [
       "3696.0"
      ]
     },
     "execution_count": 24,
     "metadata": {},
     "output_type": "execute_result"
    }
   ],
   "source": [
    "interval = 12\n",
    "sample_len = 144\n",
    "\n",
    "# num_roads = df5_ts.shape[0]\n",
    "length = df5_ts.shape[1]\n",
    "raw_data = []\n",
    "\n",
    "length / interval"
   ]
  },
  {
   "cell_type": "code",
   "execution_count": 25,
   "metadata": {},
   "outputs": [],
   "source": [
    "for i in range(num_roads):\n",
    "#     ts = df5_ts.iloc[i].tolist()\n",
    "    ts = raw[i]\n",
    "    for j in range(int(length / interval)):\n",
    "        start = j * interval\n",
    "        end = start + sample_len\n",
    "        if len(ts[start:end]) == 144:\n",
    "            raw_data.append(ts[start:end])\n",
    "raw_array = np.array(raw_data)"
   ]
  },
  {
   "cell_type": "code",
   "execution_count": 26,
   "metadata": {},
   "outputs": [
    {
     "data": {
      "text/plain": [
       "(869660, 144)"
      ]
     },
     "execution_count": 26,
     "metadata": {},
     "output_type": "execute_result"
    }
   ],
   "source": [
    "raw_array.shape"
   ]
  },
  {
   "cell_type": "code",
   "execution_count": 27,
   "metadata": {},
   "outputs": [],
   "source": [
    "# 数据量太大了，就取前1w条好了\n",
    "saved_array = raw_array[:10001]"
   ]
  },
  {
   "cell_type": "code",
   "execution_count": 28,
   "metadata": {},
   "outputs": [
    {
     "data": {
      "text/plain": [
       "array([13., 14., 14.,  1.,  2.,  1.,  2.,  2.,  0.,  0.,  0.,  3.,  1.,\n",
       "        2.,  1.,  2.,  1.,  1.,  1.,  1.,  1.,  0.,  0.,  0.,  0.,  0.,\n",
       "        1.,  0.,  0.,  0.,  0.,  1.,  0.,  0.,  0.,  0.,  1.,  0.,  5.,\n",
       "        0.,  0.,  1.,  1.,  0.,  0.,  1.,  0.,  1.,  2.,  0.,  1.,  0.,\n",
       "        1.,  0.,  0.,  0.,  0.,  1.,  1.,  1.,  1.,  0.,  1.,  2.,  0.,\n",
       "        0.,  2.,  1.,  1.,  1.,  1.,  3.,  6.,  4.,  6.,  3.,  2.,  4.,\n",
       "        1.,  7., 12.,  8.,  3.,  9.,  4.,  7., 14., 16., 19., 21., 33.,\n",
       "       11., 23., 13., 27., 10., 21., 16., 19., 34., 20., 21., 22., 29.,\n",
       "       20., 25., 32., 33., 26., 19., 19., 14., 35., 16., 41., 33., 34.,\n",
       "       26., 22., 27., 30., 41., 31., 27., 40., 32., 33., 30., 33., 33.,\n",
       "       27., 26., 19., 34., 38., 30., 39., 41., 36., 35., 42., 46., 30.,\n",
       "       31.])"
      ]
     },
     "execution_count": 28,
     "metadata": {},
     "output_type": "execute_result"
    }
   ],
   "source": [
    "saved_array[0]"
   ]
  },
  {
   "cell_type": "code",
   "execution_count": 29,
   "metadata": {},
   "outputs": [],
   "source": [
    "df = pd.DataFrame(saved_array)\n",
    "df.to_csv(\"/Users/gengyunxin/Documents/项目/traffic_model/giteee/data/finetune_predict_pems_144.csv\", index=0, header=0)"
   ]
  },
  {
   "cell_type": "markdown",
   "metadata": {},
   "source": [
    "### 合并train5和train6中不含nan的行"
   ]
  },
  {
   "cell_type": "code",
   "execution_count": null,
   "metadata": {},
   "outputs": [],
   "source": [
    "df = pd.DataFrame(raw_array)\n",
    "df.to_csv(\"/Users/gengyunxin/Documents/项目/traffic_model/giteee/data/finetune_predict_pems_144.csv\")"
   ]
  },
  {
   "cell_type": "code",
   "execution_count": null,
   "metadata": {},
   "outputs": [],
   "source": []
  }
 ],
 "metadata": {
  "kernelspec": {
   "display_name": "Python [conda env:pytorch1.6.0]",
   "language": "python",
   "name": "conda-env-pytorch1.6.0-py"
  },
  "language_info": {
   "codemirror_mode": {
    "name": "ipython",
    "version": 3
   },
   "file_extension": ".py",
   "mimetype": "text/x-python",
   "name": "python",
   "nbconvert_exporter": "python",
   "pygments_lexer": "ipython3",
   "version": "3.7.0"
  }
 },
 "nbformat": 4,
 "nbformat_minor": 4
}
